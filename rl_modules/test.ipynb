{
 "cells": [
  {
   "cell_type": "code",
   "execution_count": 1,
   "id": "6e02384d-f11c-44da-9c4c-214d180c6d7f",
   "metadata": {},
   "outputs": [],
   "source": [
    "import numpy as np\n",
    "import pandas as pd"
   ]
  },
  {
   "cell_type": "code",
   "execution_count": 2,
   "id": "16c323df-2327-424a-aff8-3bdeac4c702f",
   "metadata": {},
   "outputs": [],
   "source": [
    "from my_packages.layers import Dense\n",
    "from my_packages.policy import Policy\n",
    "from my_packages.environment import StockEnv\n",
    "from my_packages.agent import Agent"
   ]
  },
  {
   "cell_type": "markdown",
   "id": "36a685dc-faa0-4dcf-bc2c-f1e4a809f5de",
   "metadata": {},
   "source": [
    "# 1. Handling Data"
   ]
  },
  {
   "cell_type": "code",
   "execution_count": 3,
   "id": "6ada536a-47fa-42b4-9c01-996c62ad8ad7",
   "metadata": {},
   "outputs": [],
   "source": [
    "api_query = \"https://www.alphavantage.co/query?function=TIME_SERIES_INTRADAY&symbol=IBM&interval=1min&month=2025-02&outputsize=full&datatype=csv&apikey=6QP1RCVBQ5TCGE65\""
   ]
  },
  {
   "cell_type": "code",
   "execution_count": 4,
   "id": "7f1d533d-7213-489f-a4c6-0d23c542f3df",
   "metadata": {},
   "outputs": [
    {
     "data": {
      "text/html": [
       "<div>\n",
       "<style scoped>\n",
       "    .dataframe tbody tr th:only-of-type {\n",
       "        vertical-align: middle;\n",
       "    }\n",
       "\n",
       "    .dataframe tbody tr th {\n",
       "        vertical-align: top;\n",
       "    }\n",
       "\n",
       "    .dataframe thead th {\n",
       "        text-align: right;\n",
       "    }\n",
       "</style>\n",
       "<table border=\"1\" class=\"dataframe\">\n",
       "  <thead>\n",
       "    <tr style=\"text-align: right;\">\n",
       "      <th></th>\n",
       "      <th>timestamp</th>\n",
       "      <th>open</th>\n",
       "      <th>high</th>\n",
       "      <th>low</th>\n",
       "      <th>close</th>\n",
       "      <th>volume</th>\n",
       "    </tr>\n",
       "  </thead>\n",
       "  <tbody>\n",
       "    <tr>\n",
       "      <th>0</th>\n",
       "      <td>2025-02-28 19:59:00</td>\n",
       "      <td>252.5</td>\n",
       "      <td>252.5</td>\n",
       "      <td>252.50</td>\n",
       "      <td>252.50</td>\n",
       "      <td>1</td>\n",
       "    </tr>\n",
       "    <tr>\n",
       "      <th>1</th>\n",
       "      <td>2025-02-28 19:58:00</td>\n",
       "      <td>252.5</td>\n",
       "      <td>252.5</td>\n",
       "      <td>252.03</td>\n",
       "      <td>252.03</td>\n",
       "      <td>45</td>\n",
       "    </tr>\n",
       "    <tr>\n",
       "      <th>2</th>\n",
       "      <td>2025-02-28 19:53:00</td>\n",
       "      <td>252.5</td>\n",
       "      <td>252.5</td>\n",
       "      <td>252.50</td>\n",
       "      <td>252.50</td>\n",
       "      <td>116</td>\n",
       "    </tr>\n",
       "    <tr>\n",
       "      <th>3</th>\n",
       "      <td>2025-02-28 19:51:00</td>\n",
       "      <td>252.5</td>\n",
       "      <td>252.5</td>\n",
       "      <td>252.50</td>\n",
       "      <td>252.50</td>\n",
       "      <td>15</td>\n",
       "    </tr>\n",
       "    <tr>\n",
       "      <th>4</th>\n",
       "      <td>2025-02-28 19:49:00</td>\n",
       "      <td>252.5</td>\n",
       "      <td>252.5</td>\n",
       "      <td>252.50</td>\n",
       "      <td>252.50</td>\n",
       "      <td>4</td>\n",
       "    </tr>\n",
       "  </tbody>\n",
       "</table>\n",
       "</div>"
      ],
      "text/plain": [
       "             timestamp   open   high     low   close  volume\n",
       "0  2025-02-28 19:59:00  252.5  252.5  252.50  252.50       1\n",
       "1  2025-02-28 19:58:00  252.5  252.5  252.03  252.03      45\n",
       "2  2025-02-28 19:53:00  252.5  252.5  252.50  252.50     116\n",
       "3  2025-02-28 19:51:00  252.5  252.5  252.50  252.50      15\n",
       "4  2025-02-28 19:49:00  252.5  252.5  252.50  252.50       4"
      ]
     },
     "execution_count": 4,
     "metadata": {},
     "output_type": "execute_result"
    }
   ],
   "source": [
    "df = pd.read_csv(\"data/IBM_feb_25.csv\")\n",
    "df.head()"
   ]
  },
  {
   "cell_type": "code",
   "execution_count": 5,
   "id": "9bc2d1c4-4e9b-4623-83f1-7c1ce0e03d6e",
   "metadata": {
    "scrolled": true
   },
   "outputs": [
    {
     "name": "stdout",
     "output_type": "stream",
     "text": [
      "<class 'pandas.core.frame.DataFrame'>\n",
      "RangeIndex: 12388 entries, 0 to 12387\n",
      "Data columns (total 6 columns):\n",
      " #   Column     Non-Null Count  Dtype  \n",
      "---  ------     --------------  -----  \n",
      " 0   timestamp  12388 non-null  object \n",
      " 1   open       12388 non-null  float64\n",
      " 2   high       12388 non-null  float64\n",
      " 3   low        12388 non-null  float64\n",
      " 4   close      12388 non-null  float64\n",
      " 5   volume     12388 non-null  int64  \n",
      "dtypes: float64(4), int64(1), object(1)\n",
      "memory usage: 580.8+ KB\n"
     ]
    }
   ],
   "source": [
    "df.info()"
   ]
  },
  {
   "cell_type": "code",
   "execution_count": 6,
   "id": "2a43c8a2-ee20-4cbe-8b78-3773a9239a63",
   "metadata": {},
   "outputs": [
    {
     "data": {
      "text/plain": [
       "Index(['timestamp', 'open', 'high', 'low', 'close', 'volume'], dtype='object')"
      ]
     },
     "execution_count": 6,
     "metadata": {},
     "output_type": "execute_result"
    }
   ],
   "source": [
    "df.columns"
   ]
  },
  {
   "cell_type": "code",
   "execution_count": 7,
   "id": "259bb263-ab14-43a2-8976-6bf3cd473779",
   "metadata": {},
   "outputs": [],
   "source": [
    "# DATA ENGINEER WITH THE DATA I'M SKIPPING THE PART AS OF NOW \n",
    "# BE CAREFULL TO CHANGE THE INDEX OF RESPECTIVE DATA IN THE environment.py"
   ]
  },
  {
   "cell_type": "code",
   "execution_count": 8,
   "id": "54ea980a-6f47-48e6-9fc4-88fd6325ca19",
   "metadata": {},
   "outputs": [],
   "source": [
    "df = df.iloc[:,1:]"
   ]
  },
  {
   "cell_type": "code",
   "execution_count": 9,
   "id": "917fcd4e-696f-4770-9b62-546b2f95d364",
   "metadata": {},
   "outputs": [],
   "source": [
    "X = df.to_numpy(dtype = float)"
   ]
  },
  {
   "cell_type": "code",
   "execution_count": 10,
   "id": "17cb4e17-4dd6-484d-b36b-7124f18da8a6",
   "metadata": {},
   "outputs": [
    {
     "data": {
      "text/plain": [
       "(12388, 5)"
      ]
     },
     "execution_count": 10,
     "metadata": {},
     "output_type": "execute_result"
    }
   ],
   "source": [
    "X.shape"
   ]
  },
  {
   "cell_type": "markdown",
   "id": "1d2d092e-75db-48f3-97cf-b6943de97e9b",
   "metadata": {},
   "source": [
    "# 2. Building model"
   ]
  },
  {
   "cell_type": "code",
   "execution_count": 11,
   "id": "8ee97115-e53f-4cb6-b14f-8a13a4322c20",
   "metadata": {},
   "outputs": [],
   "source": [
    "env = StockEnv()\n",
    "env.set_env_data(X)"
   ]
  },
  {
   "cell_type": "code",
   "execution_count": 12,
   "id": "f7d3f457-9437-495b-8fd8-f662acffac41",
   "metadata": {},
   "outputs": [],
   "source": [
    "policy = Policy([Dense(units=10, activation='relu'),\n",
    "                 Dense(units=3, activation='linear')],\n",
    "                loss = 'mse')"
   ]
  },
  {
   "cell_type": "code",
   "execution_count": 13,
   "id": "10ef9b81-4e22-4521-8523-fe3d4e96ca5f",
   "metadata": {
    "collapsed": true,
    "jupyter": {
     "outputs_hidden": true
    }
   },
   "outputs": [
    {
     "ename": "AttributeError",
     "evalue": "'StockEnv' object has no attribute 'get_current_state'",
     "output_type": "error",
     "traceback": [
      "\u001b[0;31m---------------------------------------------------------------------------\u001b[0m",
      "\u001b[0;31mAttributeError\u001b[0m                            Traceback (most recent call last)",
      "Cell \u001b[0;32mIn[13], line 1\u001b[0m\n\u001b[0;32m----> 1\u001b[0m policy\u001b[38;5;241m.\u001b[39mepisode_train(env)\n",
      "File \u001b[0;32m~/coding/Machine Learning/work/autoTrade/rl_modules/my_packages/policy.py:106\u001b[0m, in \u001b[0;36mPolicy.episode_train\u001b[0;34m(self, env)\u001b[0m\n\u001b[1;32m    104\u001b[0m \u001b[38;5;28;01mfor\u001b[39;00m step \u001b[38;5;129;01min\u001b[39;00m \u001b[38;5;28mrange\u001b[39m(\u001b[38;5;241m8000\u001b[39m) :\n\u001b[1;32m    105\u001b[0m     eps \u001b[38;5;241m=\u001b[39m \u001b[38;5;28mmax\u001b[39m(\u001b[38;5;241m1\u001b[39m \u001b[38;5;241m-\u001b[39m episode \u001b[38;5;241m/\u001b[39m \u001b[38;5;241m400\u001b[39m, \u001b[38;5;241m0.01\u001b[39m)\n\u001b[0;32m--> 106\u001b[0m     state \u001b[38;5;241m=\u001b[39m env\u001b[38;5;241m.\u001b[39mget_current_state()\n\u001b[1;32m    107\u001b[0m     next_state, reward, done, logs \u001b[38;5;241m=\u001b[39m \u001b[38;5;28mself\u001b[39m\u001b[38;5;241m.\u001b[39mtrade_once(env, state, epsilon\u001b[38;5;241m=\u001b[39meps)\n\u001b[1;32m    108\u001b[0m     \u001b[38;5;28;01mif\u001b[39;00m done\u001b[38;5;241m==\u001b[39m\u001b[38;5;241m1\u001b[39m : \n",
      "\u001b[0;31mAttributeError\u001b[0m: 'StockEnv' object has no attribute 'get_current_state'"
     ]
    }
   ],
   "source": [
    "policy.episode_train(env)"
   ]
  }
 ],
 "metadata": {
  "kernelspec": {
   "display_name": "Python 3 (ipykernel)",
   "language": "python",
   "name": "python3"
  },
  "language_info": {
   "codemirror_mode": {
    "name": "ipython",
    "version": 3
   },
   "file_extension": ".py",
   "mimetype": "text/x-python",
   "name": "python",
   "nbconvert_exporter": "python",
   "pygments_lexer": "ipython3",
   "version": "3.12.8"
  }
 },
 "nbformat": 4,
 "nbformat_minor": 5
}
