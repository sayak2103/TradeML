{
 "cells": [
  {
   "cell_type": "code",
   "execution_count": 1,
   "id": "6e02384d-f11c-44da-9c4c-214d180c6d7f",
   "metadata": {},
   "outputs": [],
   "source": [
    "import numpy as np\n",
    "import pandas as pd"
   ]
  },
  {
   "cell_type": "code",
   "execution_count": 2,
   "id": "16c323df-2327-424a-aff8-3bdeac4c702f",
   "metadata": {},
   "outputs": [],
   "source": [
    "from my_packages.layers import Dense\n",
    "from my_packages.neural_network import NN\n",
    "from my_packages.environment import StockEnv\n",
    "from my_packages.policy_train import PolicyTrain"
   ]
  },
  {
   "cell_type": "code",
   "execution_count": 3,
   "id": "29fe42fe-148a-456a-8dd7-258af107f908",
   "metadata": {},
   "outputs": [],
   "source": [
    "%load_ext autoreload\n",
    "%autoreload 2"
   ]
  },
  {
   "cell_type": "markdown",
   "id": "36a685dc-faa0-4dcf-bc2c-f1e4a809f5de",
   "metadata": {},
   "source": [
    "# 1. Handling Data"
   ]
  },
  {
   "cell_type": "code",
   "execution_count": 4,
   "id": "6ada536a-47fa-42b4-9c01-996c62ad8ad7",
   "metadata": {},
   "outputs": [],
   "source": [
    "api_query = \"https://www.alphavantage.co/query?function=TIME_SERIES_INTRADAY&symbol=IBM&interval=1min&month=2025-02&outputsize=full&datatype=csv&apikey=6QP1RCVBQ5TCGE65\""
   ]
  },
  {
   "cell_type": "code",
   "execution_count": 5,
   "id": "7f1d533d-7213-489f-a4c6-0d23c542f3df",
   "metadata": {},
   "outputs": [
    {
     "data": {
      "text/html": [
       "<div>\n",
       "<style scoped>\n",
       "    .dataframe tbody tr th:only-of-type {\n",
       "        vertical-align: middle;\n",
       "    }\n",
       "\n",
       "    .dataframe tbody tr th {\n",
       "        vertical-align: top;\n",
       "    }\n",
       "\n",
       "    .dataframe thead th {\n",
       "        text-align: right;\n",
       "    }\n",
       "</style>\n",
       "<table border=\"1\" class=\"dataframe\">\n",
       "  <thead>\n",
       "    <tr style=\"text-align: right;\">\n",
       "      <th></th>\n",
       "      <th>timestamp</th>\n",
       "      <th>open</th>\n",
       "      <th>high</th>\n",
       "      <th>low</th>\n",
       "      <th>close</th>\n",
       "      <th>volume</th>\n",
       "    </tr>\n",
       "  </thead>\n",
       "  <tbody>\n",
       "    <tr>\n",
       "      <th>0</th>\n",
       "      <td>2025-02-28 19:59:00</td>\n",
       "      <td>252.5</td>\n",
       "      <td>252.5</td>\n",
       "      <td>252.50</td>\n",
       "      <td>252.50</td>\n",
       "      <td>1</td>\n",
       "    </tr>\n",
       "    <tr>\n",
       "      <th>1</th>\n",
       "      <td>2025-02-28 19:58:00</td>\n",
       "      <td>252.5</td>\n",
       "      <td>252.5</td>\n",
       "      <td>252.03</td>\n",
       "      <td>252.03</td>\n",
       "      <td>45</td>\n",
       "    </tr>\n",
       "    <tr>\n",
       "      <th>2</th>\n",
       "      <td>2025-02-28 19:53:00</td>\n",
       "      <td>252.5</td>\n",
       "      <td>252.5</td>\n",
       "      <td>252.50</td>\n",
       "      <td>252.50</td>\n",
       "      <td>116</td>\n",
       "    </tr>\n",
       "    <tr>\n",
       "      <th>3</th>\n",
       "      <td>2025-02-28 19:51:00</td>\n",
       "      <td>252.5</td>\n",
       "      <td>252.5</td>\n",
       "      <td>252.50</td>\n",
       "      <td>252.50</td>\n",
       "      <td>15</td>\n",
       "    </tr>\n",
       "    <tr>\n",
       "      <th>4</th>\n",
       "      <td>2025-02-28 19:49:00</td>\n",
       "      <td>252.5</td>\n",
       "      <td>252.5</td>\n",
       "      <td>252.50</td>\n",
       "      <td>252.50</td>\n",
       "      <td>4</td>\n",
       "    </tr>\n",
       "  </tbody>\n",
       "</table>\n",
       "</div>"
      ],
      "text/plain": [
       "             timestamp   open   high     low   close  volume\n",
       "0  2025-02-28 19:59:00  252.5  252.5  252.50  252.50       1\n",
       "1  2025-02-28 19:58:00  252.5  252.5  252.03  252.03      45\n",
       "2  2025-02-28 19:53:00  252.5  252.5  252.50  252.50     116\n",
       "3  2025-02-28 19:51:00  252.5  252.5  252.50  252.50      15\n",
       "4  2025-02-28 19:49:00  252.5  252.5  252.50  252.50       4"
      ]
     },
     "execution_count": 5,
     "metadata": {},
     "output_type": "execute_result"
    }
   ],
   "source": [
    "df = pd.read_csv(\"data/IBM_feb_25.csv\")\n",
    "df.head()"
   ]
  },
  {
   "cell_type": "code",
   "execution_count": 6,
   "id": "9bc2d1c4-4e9b-4623-83f1-7c1ce0e03d6e",
   "metadata": {
    "scrolled": true
   },
   "outputs": [
    {
     "name": "stdout",
     "output_type": "stream",
     "text": [
      "<class 'pandas.core.frame.DataFrame'>\n",
      "RangeIndex: 12388 entries, 0 to 12387\n",
      "Data columns (total 6 columns):\n",
      " #   Column     Non-Null Count  Dtype  \n",
      "---  ------     --------------  -----  \n",
      " 0   timestamp  12388 non-null  object \n",
      " 1   open       12388 non-null  float64\n",
      " 2   high       12388 non-null  float64\n",
      " 3   low        12388 non-null  float64\n",
      " 4   close      12388 non-null  float64\n",
      " 5   volume     12388 non-null  int64  \n",
      "dtypes: float64(4), int64(1), object(1)\n",
      "memory usage: 580.8+ KB\n"
     ]
    }
   ],
   "source": [
    "df.info()"
   ]
  },
  {
   "cell_type": "code",
   "execution_count": 7,
   "id": "2a43c8a2-ee20-4cbe-8b78-3773a9239a63",
   "metadata": {},
   "outputs": [
    {
     "data": {
      "text/plain": [
       "Index(['timestamp', 'open', 'high', 'low', 'close', 'volume'], dtype='object')"
      ]
     },
     "execution_count": 7,
     "metadata": {},
     "output_type": "execute_result"
    }
   ],
   "source": [
    "df.columns"
   ]
  },
  {
   "cell_type": "code",
   "execution_count": 8,
   "id": "259bb263-ab14-43a2-8976-6bf3cd473779",
   "metadata": {},
   "outputs": [],
   "source": [
    "# DATA ENGINEER WITH THE DATA I'M SKIPPING THE PART AS OF NOW \n",
    "# BE CAREFULL TO CHANGE THE INDEX OF RESPECTIVE DATA IN THE environment.py"
   ]
  },
  {
   "cell_type": "code",
   "execution_count": 9,
   "id": "54ea980a-6f47-48e6-9fc4-88fd6325ca19",
   "metadata": {},
   "outputs": [],
   "source": [
    "df = df.iloc[:,1:]"
   ]
  },
  {
   "cell_type": "code",
   "execution_count": 10,
   "id": "917fcd4e-696f-4770-9b62-546b2f95d364",
   "metadata": {},
   "outputs": [],
   "source": [
    "X = df.to_numpy(dtype = float)"
   ]
  },
  {
   "cell_type": "code",
   "execution_count": 11,
   "id": "17cb4e17-4dd6-484d-b36b-7124f18da8a6",
   "metadata": {},
   "outputs": [
    {
     "data": {
      "text/plain": [
       "(12388, 5)"
      ]
     },
     "execution_count": 11,
     "metadata": {},
     "output_type": "execute_result"
    }
   ],
   "source": [
    "X.shape"
   ]
  },
  {
   "cell_type": "markdown",
   "id": "1d2d092e-75db-48f3-97cf-b6943de97e9b",
   "metadata": {},
   "source": [
    "# 2. Building model (Policy)"
   ]
  },
  {
   "cell_type": "code",
   "execution_count": 12,
   "id": "8ee97115-e53f-4cb6-b14f-8a13a4322c20",
   "metadata": {},
   "outputs": [
    {
     "data": {
      "text/plain": [
       "array([[252.5 , 252.5 , 252.5 , 252.5 ,   1.  ],\n",
       "       [252.5 , 252.5 , 252.03, 252.03,  45.  ],\n",
       "       [252.5 , 252.5 , 252.5 , 252.5 , 116.  ],\n",
       "       [252.5 , 252.5 , 252.5 , 252.5 ,  15.  ],\n",
       "       [252.5 , 252.5 , 252.5 , 252.5 ,   4.  ]])"
      ]
     },
     "execution_count": 12,
     "metadata": {},
     "output_type": "execute_result"
    }
   ],
   "source": [
    "X[:5,:]"
   ]
  },
  {
   "cell_type": "code",
   "execution_count": 13,
   "id": "c7719f1e-865a-42ff-ab2e-adeeb7ea1211",
   "metadata": {},
   "outputs": [
    {
     "data": {
      "text/plain": [
       "array([100000., 100000., 100000., 100000., 100000.])"
      ]
     },
     "execution_count": 13,
     "metadata": {},
     "output_type": "execute_result"
    }
   ],
   "source": [
    "data_scaler = np.ones(5) * 1e5\n",
    "data_scaler"
   ]
  },
  {
   "cell_type": "code",
   "execution_count": 14,
   "id": "24e52ce7-e53a-4bad-878e-af3670d10bb2",
   "metadata": {},
   "outputs": [
    {
     "data": {
      "text/plain": [
       "array([[2.5250e-03, 2.5250e-03, 2.5250e-03, 2.5250e-03, 1.0000e-05],\n",
       "       [2.5250e-03, 2.5250e-03, 2.5203e-03, 2.5203e-03, 4.5000e-04],\n",
       "       [2.5250e-03, 2.5250e-03, 2.5250e-03, 2.5250e-03, 1.1600e-03],\n",
       "       [2.5250e-03, 2.5250e-03, 2.5250e-03, 2.5250e-03, 1.5000e-04],\n",
       "       [2.5250e-03, 2.5250e-03, 2.5250e-03, 2.5250e-03, 4.0000e-05]])"
      ]
     },
     "execution_count": 14,
     "metadata": {},
     "output_type": "execute_result"
    }
   ],
   "source": [
    "X = X / data_scaler\n",
    "X[:5,:]"
   ]
  },
  {
   "cell_type": "code",
   "execution_count": 15,
   "id": "aa9f2913-a51b-4bf6-b294-8ea91d68fc6f",
   "metadata": {},
   "outputs": [],
   "source": [
    "env = StockEnv()\n",
    "env.set_env_data(X)\n",
    "# STATES -> [OPEN , HIGH , LOW , CLOSE , VOLUME , AVG_SHARE_PRICE]"
   ]
  },
  {
   "cell_type": "code",
   "execution_count": 16,
   "id": "f7d3f457-9437-495b-8fd8-f662acffac41",
   "metadata": {},
   "outputs": [],
   "source": [
    "policy = NN([Dense(units=10, activation='relu'),\n",
    "            Dense(units=3, activation='linear')],\n",
    "            loss = 'mse')\n",
    "policy.layers[0].init_layer(6)"
   ]
  },
  {
   "cell_type": "code",
   "execution_count": 17,
   "id": "b7c092be-64db-4b44-9e81-7d1c54764542",
   "metadata": {},
   "outputs": [
    {
     "data": {
      "text/plain": [
       "0"
      ]
     },
     "execution_count": 17,
     "metadata": {},
     "output_type": "execute_result"
    }
   ],
   "source": [
    "env.num_shares"
   ]
  },
  {
   "cell_type": "code",
   "execution_count": 18,
   "id": "10ef9b81-4e22-4521-8523-fe3d4e96ca5f",
   "metadata": {
    "scrolled": true
   },
   "outputs": [],
   "source": [
    "training_tool = PolicyTrain(policy, env, epsilon = 0.3, gamma = 0.9)"
   ]
  },
  {
   "cell_type": "code",
   "execution_count": 19,
   "id": "4aa25171-f991-477d-b570-79736cc5691b",
   "metadata": {},
   "outputs": [],
   "source": [
    "training_tool.episode_train(batch_size = 100)"
   ]
  },
  {
   "cell_type": "markdown",
   "id": "71765b0f-6f11-4ab7-96c6-293cd6ea22b5",
   "metadata": {},
   "source": [
    "Now the policy is ready and can be deserialized and stored and reused when required"
   ]
  },
  {
   "cell_type": "markdown",
   "id": "0399e8ab-b1e8-475f-9ce0-90c4c53d3181",
   "metadata": {},
   "source": [
    "# 3. Agent using policy"
   ]
  },
  {
   "cell_type": "code",
   "execution_count": 30,
   "id": "52a8c262-bdc4-4e79-bfe1-da983ecbc883",
   "metadata": {},
   "outputs": [
    {
     "data": {
      "text/plain": [
       "array([2.524e-03, 2.524e-03, 2.524e-03, 2.524e-03, 1.000e-05, 1.000e+01])"
      ]
     },
     "execution_count": 30,
     "metadata": {},
     "output_type": "execute_result"
    }
   ],
   "source": [
    "predict_data = X[10,:]\n",
    "predict_data = np.append(predict_data,[10])\n",
    "predict_data"
   ]
  },
  {
   "cell_type": "code",
   "execution_count": 31,
   "id": "1256740d",
   "metadata": {},
   "outputs": [
    {
     "data": {
      "text/plain": [
       "array([[1.03758801, 1.38966191, 1.73104734]])"
      ]
     },
     "execution_count": 31,
     "metadata": {},
     "output_type": "execute_result"
    }
   ],
   "source": [
    "policy.predict(predict_data)"
   ]
  },
  {
   "cell_type": "code",
   "execution_count": null,
   "id": "d1ff7a7f",
   "metadata": {},
   "outputs": [],
   "source": []
  },
  {
   "cell_type": "code",
   "execution_count": null,
   "id": "3fc13679",
   "metadata": {},
   "outputs": [],
   "source": []
  },
  {
   "cell_type": "code",
   "execution_count": null,
   "id": "d2959707",
   "metadata": {},
   "outputs": [],
   "source": []
  },
  {
   "cell_type": "code",
   "execution_count": null,
   "id": "eccd9a75",
   "metadata": {},
   "outputs": [],
   "source": []
  },
  {
   "cell_type": "code",
   "execution_count": null,
   "id": "4cf7dbcf",
   "metadata": {},
   "outputs": [],
   "source": []
  },
  {
   "cell_type": "code",
   "execution_count": null,
   "id": "fb918c7c",
   "metadata": {},
   "outputs": [],
   "source": []
  }
 ],
 "metadata": {
  "kernelspec": {
   "display_name": "Python 3",
   "language": "python",
   "name": "python3"
  },
  "language_info": {
   "codemirror_mode": {
    "name": "ipython",
    "version": 3
   },
   "file_extension": ".py",
   "mimetype": "text/x-python",
   "name": "python",
   "nbconvert_exporter": "python",
   "pygments_lexer": "ipython3",
   "version": "3.10.9"
  }
 },
 "nbformat": 4,
 "nbformat_minor": 5
}
