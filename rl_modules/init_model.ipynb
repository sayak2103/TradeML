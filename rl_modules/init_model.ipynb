{
 "cells": [
  {
   "cell_type": "markdown",
   "metadata": {},
   "source": [
    "# Initialization of a Policy\n",
    "<p> This module deals with the creation of a new policy and storing it after sertializing the object, which can be used later for tarining or usage purposes </p>\n",
    "\n",
    "##### *Note* : this module doesnot train the model "
   ]
  },
  {
   "cell_type": "code",
   "execution_count": 1,
   "metadata": {},
   "outputs": [],
   "source": [
    "from my_packages.layers import Dense\n",
    "from my_packages.neural_network import NN"
   ]
  },
  {
   "cell_type": "markdown",
   "metadata": {},
   "source": [
    "##### MODIFY the cell BELOW as per requirement"
   ]
  },
  {
   "cell_type": "code",
   "execution_count": 2,
   "metadata": {},
   "outputs": [],
   "source": [
    "#change this accordingly\n",
    "data_features = 2\n",
    "#this number signifies the number of features that the model would take to predict\n",
    "#it should be same with the number of columns (features) in training dataset\n",
    "path = \"../model/model2inputs\""
   ]
  },
  {
   "cell_type": "code",
   "execution_count": 3,
   "metadata": {},
   "outputs": [],
   "source": [
    "# we will use pickle \n",
    "import pickle as pk"
   ]
  },
  {
   "cell_type": "code",
   "execution_count": 4,
   "metadata": {},
   "outputs": [],
   "source": [
    "policy = NN([\n",
    "    Dense(units=64, activation='relu'),\n",
    "    Dense(units=64, activation='relu'),\n",
    "    Dense(units=3, activation='linear')\n",
    "], loss='mse')\n",
    "policy.layers[0].init_layer(data_features)"
   ]
  },
  {
   "cell_type": "code",
   "execution_count": 5,
   "metadata": {},
   "outputs": [],
   "source": [
    "file = open(path,'ab')\n",
    "pk.dump(policy, file)\n",
    "file.close()"
   ]
  },
  {
   "cell_type": "code",
   "execution_count": 6,
   "metadata": {},
   "outputs": [],
   "source": [
    "#for opening the file and using it\n",
    "#file = open(path, 'rb')\n",
    "#p = pk.load(file)\n",
    "#print(p.layers[0].W.shape)\n",
    "#file.close()"
   ]
  },
  {
   "cell_type": "code",
   "execution_count": 7,
   "metadata": {},
   "outputs": [],
   "source": [
    "# for earasing the file \n",
    "#file = open(path,'r+')\n",
    "#file.truncate(0)\n",
    "#file.close()"
   ]
  }
 ],
 "metadata": {
  "kernelspec": {
   "display_name": "venv",
   "language": "python",
   "name": "python3"
  },
  "language_info": {
   "codemirror_mode": {
    "name": "ipython",
    "version": 3
   },
   "file_extension": ".py",
   "mimetype": "text/x-python",
   "name": "python",
   "nbconvert_exporter": "python",
   "pygments_lexer": "ipython3",
   "version": "3.12.8"
  }
 },
 "nbformat": 4,
 "nbformat_minor": 2
}
