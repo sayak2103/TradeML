{
 "cells": [
  {
   "cell_type": "markdown",
   "metadata": {},
   "source": [
    "# Training Policy\n",
    "\n",
    "##### This module deals with training any policy and serialize and store the model"
   ]
  },
  {
   "cell_type": "code",
   "execution_count": 1,
   "metadata": {},
   "outputs": [],
   "source": [
    "%load_ext autoreload\n",
    "%autoreload 2"
   ]
  },
  {
   "cell_type": "code",
   "execution_count": 2,
   "metadata": {},
   "outputs": [],
   "source": [
    "import pickle\n",
    "import datetime\n",
    "from my_packages.neural_network import NN\n",
    "from my_packages.layers import Dense\n",
    "from utils import train_model"
   ]
  },
  {
   "cell_type": "code",
   "execution_count": 3,
   "metadata": {},
   "outputs": [],
   "source": [
    "from dotenv import dotenv_values\n",
    "env_vars = dotenv_values('.env')  # Load environment variables from .env file"
   ]
  },
  {
   "cell_type": "code",
   "execution_count": 4,
   "metadata": {},
   "outputs": [],
   "source": [
    "# data_features = number of input features after data processsing = len(policy.data_features)\n",
    "data_features = 6\n",
    "# policy : DNN for predicting the return for a action for a given state\n",
    "DNN_policy = NN([\n",
    "    Dense(units=64, activation='relu'),\n",
    "    Dense(units=128, activation='relu'),\n",
    "    Dense(units=64, activation='relu'),\n",
    "    Dense(units=32, activation='relu'),\n",
    "    Dense(units=16, activation='relu'),\n",
    "    Dense(units=3, activation='linear')\n",
    "], loss='mse')\n",
    "DNN_policy.layers[0].init_layer(data_features)\n",
    "DNN_policy.data_features = ([\"c-o/o\" , \"h-l/o\" , \"h-o/o\" , \"o-l/o\" , \"c\" , \"vol\"])\n",
    "DNN_policy.name = \"tradoBot_v1.0\""
   ]
  },
  {
   "cell_type": "code",
   "execution_count": 5,
   "metadata": {},
   "outputs": [],
   "source": [
    "#setting the arguments for the trainging that has to passed to the train_model function \n",
    "# tiem range for which the training will be done\n",
    "start = datetime.datetime(2025, 5, 17, 9, 30, 0)\n",
    "end = datetime.datetime(2025, 5, 24, 16, 30, 0)\n",
    "headers = {\n",
    "    \"accept\": \"application/json\",\n",
    "    \"APCA-API-KEY-ID\": env_vars[\"ALPACA_API_KEY\"],\n",
    "    \"APCA-API-SECRET-KEY\": env_vars[\"ALPACA_API_SECRET\"],\n",
    "}\n",
    "company = \"TSLA\"\n",
    "log_file_path = \"../model_logs/tradoBot_v1.0.logs.txt\""
   ]
  },
  {
   "cell_type": "code",
   "execution_count": 6,
   "metadata": {},
   "outputs": [
    {
     "data": {
      "text/plain": [
       "array([ 0.00776143,  0.00669263,  0.00862665,  0.00269807,  0.00855474,\n",
       "       -0.00861518, -0.01735718,  0.00965049, -0.00915467, -0.00659554,\n",
       "        0.00440044,  0.00127314,  0.01037371, -0.00958044,  0.01023048,\n",
       "       -0.00131269, -0.00681656, -0.00078188, -0.01254362,  0.00836968])"
      ]
     },
     "execution_count": 6,
     "metadata": {},
     "output_type": "execute_result"
    }
   ],
   "source": [
    "# few initial weights of the model\n",
    "# to check if the model is trained\n",
    "DNN_policy.layers[0].W[0, 0:20]"
   ]
  },
  {
   "cell_type": "markdown",
   "metadata": {},
   "source": [
    "6. Train Model"
   ]
  },
  {
   "cell_type": "code",
   "execution_count": 7,
   "metadata": {},
   "outputs": [
    {
     "name": "stdout",
     "output_type": "stream",
     "text": [
      "Log file ../model_logs/tradoBot_v1.0.logs.txt does not exist, creating a new one.\n",
      "No data found for TSLA from 2025-05-17 09:30:00 to 2025-05-17 10:40:00. Skipping...\n",
      "No data found for TSLA from 2025-05-17 10:40:00 to 2025-05-17 12:10:00. Skipping...\n",
      "No data found for TSLA from 2025-05-17 12:10:00 to 2025-05-17 13:00:00. Skipping...\n",
      "No data found for TSLA from 2025-05-17 13:00:00 to 2025-05-17 14:33:00. Skipping...\n",
      "No data found for TSLA from 2025-05-17 14:33:00 to 2025-05-17 15:49:00. Skipping...\n",
      "No data found for TSLA from 2025-05-17 15:49:00 to 2025-05-17 16:39:00. Skipping...\n",
      "No data found for TSLA from 2025-05-17 16:39:00 to 2025-05-17 17:32:00. Skipping...\n",
      "No data found for TSLA from 2025-05-17 17:32:00 to 2025-05-17 18:26:00. Skipping...\n",
      "No data found for TSLA from 2025-05-17 18:26:00 to 2025-05-17 19:36:00. Skipping...\n",
      "No data found for TSLA from 2025-05-17 19:36:00 to 2025-05-17 21:15:00. Skipping...\n",
      "No data found for TSLA from 2025-05-17 21:15:00 to 2025-05-17 22:45:00. Skipping...\n",
      "No data found for TSLA from 2025-05-17 22:45:00 to 2025-05-18 00:18:00. Skipping...\n",
      "No data found for TSLA from 2025-05-18 00:18:00 to 2025-05-18 01:51:00. Skipping...\n",
      "No data found for TSLA from 2025-05-18 01:51:00 to 2025-05-18 03:13:00. Skipping...\n",
      "No data found for TSLA from 2025-05-18 03:13:00 to 2025-05-18 04:36:00. Skipping...\n",
      "No data found for TSLA from 2025-05-18 04:36:00 to 2025-05-18 05:53:00. Skipping...\n",
      "No data found for TSLA from 2025-05-18 05:53:00 to 2025-05-18 07:25:00. Skipping...\n",
      "No data found for TSLA from 2025-05-18 07:25:00 to 2025-05-18 08:36:00. Skipping...\n",
      "No data found for TSLA from 2025-05-18 08:36:00 to 2025-05-18 09:44:00. Skipping...\n",
      "No data found for TSLA from 2025-05-18 09:44:00 to 2025-05-18 11:07:00. Skipping...\n",
      "No data found for TSLA from 2025-05-18 11:07:00 to 2025-05-18 12:30:00. Skipping...\n",
      "No data found for TSLA from 2025-05-18 12:30:00 to 2025-05-18 13:39:00. Skipping...\n",
      "No data found for TSLA from 2025-05-18 13:39:00 to 2025-05-18 14:47:00. Skipping...\n",
      "No data found for TSLA from 2025-05-18 14:47:00 to 2025-05-18 15:58:00. Skipping...\n",
      "No data found for TSLA from 2025-05-18 15:58:00 to 2025-05-18 17:00:00. Skipping...\n",
      "No data found for TSLA from 2025-05-18 17:00:00 to 2025-05-18 18:11:00. Skipping...\n",
      "No data found for TSLA from 2025-05-18 18:11:00 to 2025-05-18 19:38:00. Skipping...\n",
      "No data found for TSLA from 2025-05-18 19:38:00 to 2025-05-18 20:43:00. Skipping...\n",
      "No data found for TSLA from 2025-05-18 20:43:00 to 2025-05-18 22:11:00. Skipping...\n",
      "No data found for TSLA from 2025-05-18 22:11:00 to 2025-05-18 23:08:00. Skipping...\n",
      "No data found for TSLA from 2025-05-18 23:08:00 to 2025-05-19 00:02:00. Skipping...\n",
      "No data found for TSLA from 2025-05-19 00:02:00 to 2025-05-19 01:27:00. Skipping...\n",
      "No data found for TSLA from 2025-05-19 01:27:00 to 2025-05-19 02:32:00. Skipping...\n",
      "No data found for TSLA from 2025-05-19 02:32:00 to 2025-05-19 03:30:00. Skipping...\n",
      "No data found for TSLA from 2025-05-19 03:30:00 to 2025-05-19 05:01:00. Skipping...\n",
      "No data found for TSLA from 2025-05-19 05:01:00 to 2025-05-19 06:39:00. Skipping...\n",
      "No data found for TSLA from 2025-05-19 06:39:00 to 2025-05-19 07:56:00. Skipping...\n",
      "from 2025-05-19 07:56:00 for 89mins of TSLA => avg_reward_episode : -14.270 final_reward : -29.052\n",
      "from 2025-05-19 09:25:00 for 60mins of TSLA => avg_reward_episode : 3.258 final_reward : 1.602\n",
      "from 2025-05-19 10:25:00 for 56mins of TSLA => avg_reward_episode : 9.611 final_reward : 38.655\n",
      "from 2025-05-19 11:21:00 for 88mins of TSLA => avg_reward_episode : -8.346 final_reward : -1.947\n",
      "from 2025-05-19 12:49:00 for 50mins of TSLA => avg_reward_episode : -5.382 final_reward : -5.914\n",
      "from 2025-05-19 13:39:00 for 52mins of TSLA => avg_reward_episode : 26.022 final_reward : 37.662\n",
      "from 2025-05-19 14:31:00 for 95mins of TSLA => avg_reward_episode : -16.206 final_reward : 2.097\n",
      "from 2025-05-19 16:06:00 for 87mins of TSLA => avg_reward_episode : 30.986 final_reward : 62.659\n",
      "from 2025-05-19 17:33:00 for 92mins of TSLA => avg_reward_episode : -10.938 final_reward : -12.043\n",
      "from 2025-05-19 19:05:00 for 78mins of TSLA => avg_reward_episode : 3.630 final_reward : 18.369\n",
      "from 2025-05-19 20:23:00 for 81mins of TSLA => avg_reward_episode : 2.367 final_reward : 6.990\n",
      "from 2025-05-19 21:44:00 for 88mins of TSLA => avg_reward_episode : -0.349 final_reward : -0.039\n",
      "from 2025-05-19 23:12:00 for 56mins of TSLA => avg_reward_episode : 5.437 final_reward : 3.521\n",
      "No data found for TSLA from 2025-05-20 00:08:00 to 2025-05-20 01:06:00. Skipping...\n",
      "No data found for TSLA from 2025-05-20 01:06:00 to 2025-05-20 02:45:00. Skipping...\n",
      "No data found for TSLA from 2025-05-20 02:45:00 to 2025-05-20 03:54:00. Skipping...\n",
      "No data found for TSLA from 2025-05-20 03:54:00 to 2025-05-20 05:06:00. Skipping...\n",
      "No data found for TSLA from 2025-05-20 05:06:00 to 2025-05-20 06:36:00. Skipping...\n",
      "No data found for TSLA from 2025-05-20 06:36:00 to 2025-05-20 07:44:00. Skipping...\n",
      "from 2025-05-20 07:44:00 for 54mins of TSLA => avg_reward_episode : 2.468 final_reward : 10.811\n",
      "from 2025-05-20 08:38:00 for 66mins of TSLA => avg_reward_episode : -0.255 final_reward : 2.646\n",
      "from 2025-05-20 09:44:00 for 96mins of TSLA => avg_reward_episode : 11.902 final_reward : 10.775\n",
      "from 2025-05-20 11:20:00 for 65mins of TSLA => avg_reward_episode : -3.801 final_reward : -8.407\n",
      "from 2025-05-20 12:25:00 for 71mins of TSLA => avg_reward_episode : 4.826 final_reward : 6.874\n",
      "from 2025-05-20 13:36:00 for 88mins of TSLA => avg_reward_episode : -57.658 final_reward : -1.492\n",
      "from 2025-05-20 15:04:00 for 62mins of TSLA => avg_reward_episode : 13.449 final_reward : 1.569\n",
      "from 2025-05-20 16:06:00 for 66mins of TSLA => avg_reward_episode : 25.432 final_reward : 49.562\n",
      "from 2025-05-20 17:12:00 for 76mins of TSLA => avg_reward_episode : 1.244 final_reward : -0.078\n",
      "from 2025-05-20 18:28:00 for 69mins of TSLA => avg_reward_episode : -21.886 final_reward : -25.225\n",
      "from 2025-05-20 19:37:00 for 51mins of TSLA => avg_reward_episode : -5.093 final_reward : -8.668\n",
      "from 2025-05-20 20:28:00 for 73mins of TSLA => avg_reward_episode : -0.504 final_reward : -15.373\n",
      "from 2025-05-20 21:41:00 for 66mins of TSLA => avg_reward_episode : -2.620 final_reward : -32.895\n",
      "from 2025-05-20 22:47:00 for 77mins of TSLA => avg_reward_episode : 9.782 final_reward : 10.237\n",
      "No data found for TSLA from 2025-05-21 00:04:00 to 2025-05-21 01:30:00. Skipping...\n",
      "No data found for TSLA from 2025-05-21 01:30:00 to 2025-05-21 03:09:00. Skipping...\n",
      "No data found for TSLA from 2025-05-21 03:09:00 to 2025-05-21 04:23:00. Skipping...\n",
      "No data found for TSLA from 2025-05-21 04:23:00 to 2025-05-21 05:36:00. Skipping...\n",
      "No data found for TSLA from 2025-05-21 05:36:00 to 2025-05-21 06:26:00. Skipping...\n",
      "No data found for TSLA from 2025-05-21 06:26:00 to 2025-05-21 07:45:00. Skipping...\n",
      "from 2025-05-21 07:45:00 for 62mins of TSLA => avg_reward_episode : 2.559 final_reward : 3.144\n",
      "from 2025-05-21 08:47:00 for 50mins of TSLA => avg_reward_episode : -0.771 final_reward : -5.330\n",
      "from 2025-05-21 09:37:00 for 60mins of TSLA => avg_reward_episode : -5.723 final_reward : -0.947\n",
      "from 2025-05-21 10:37:00 for 84mins of TSLA => avg_reward_episode : 17.213 final_reward : 58.532\n",
      "from 2025-05-21 12:01:00 for 96mins of TSLA => avg_reward_episode : -1.425 final_reward : -9.421\n",
      "from 2025-05-21 13:37:00 for 68mins of TSLA => avg_reward_episode : -2.094 final_reward : 7.153\n",
      "from 2025-05-21 14:45:00 for 80mins of TSLA => avg_reward_episode : 13.412 final_reward : 83.814\n",
      "from 2025-05-21 16:05:00 for 97mins of TSLA => avg_reward_episode : -11.360 final_reward : -36.391\n",
      "from 2025-05-21 17:42:00 for 66mins of TSLA => avg_reward_episode : -7.536 final_reward : -3.027\n",
      "from 2025-05-21 18:48:00 for 61mins of TSLA => avg_reward_episode : -11.764 final_reward : -68.192\n",
      "from 2025-05-21 19:49:00 for 54mins of TSLA => avg_reward_episode : -12.093 final_reward : -2.093\n",
      "from 2025-05-21 20:43:00 for 61mins of TSLA => avg_reward_episode : 3.823 final_reward : 34.266\n",
      "from 2025-05-21 21:44:00 for 88mins of TSLA => avg_reward_episode : -0.245 final_reward : -10.310\n",
      "from 2025-05-21 23:12:00 for 51mins of TSLA => avg_reward_episode : -0.075 final_reward : 0.628\n",
      "No data found for TSLA from 2025-05-22 00:03:00 to 2025-05-22 00:55:00. Skipping...\n",
      "No data found for TSLA from 2025-05-22 00:55:00 to 2025-05-22 02:24:00. Skipping...\n",
      "No data found for TSLA from 2025-05-22 02:24:00 to 2025-05-22 03:43:00. Skipping...\n",
      "No data found for TSLA from 2025-05-22 03:43:00 to 2025-05-22 05:22:00. Skipping...\n",
      "No data found for TSLA from 2025-05-22 05:22:00 to 2025-05-22 06:28:00. Skipping...\n",
      "No data found for TSLA from 2025-05-22 06:28:00 to 2025-05-22 07:43:00. Skipping...\n",
      "from 2025-05-22 07:43:00 for 96mins of TSLA => avg_reward_episode : 12.161 final_reward : 24.748\n",
      "from 2025-05-22 09:19:00 for 71mins of TSLA => avg_reward_episode : -3.739 final_reward : -2.583\n",
      "from 2025-05-22 10:30:00 for 58mins of TSLA => avg_reward_episode : -0.937 final_reward : -20.291\n",
      "from 2025-05-22 11:28:00 for 81mins of TSLA => avg_reward_episode : -22.835 final_reward : 0.182\n",
      "from 2025-05-22 12:49:00 for 76mins of TSLA => avg_reward_episode : 37.044 final_reward : 19.923\n",
      "from 2025-05-22 14:05:00 for 99mins of TSLA => avg_reward_episode : 27.012 final_reward : 84.658\n",
      "from 2025-05-22 15:44:00 for 67mins of TSLA => avg_reward_episode : 1.900 final_reward : -12.540\n",
      "from 2025-05-22 16:51:00 for 98mins of TSLA => avg_reward_episode : 23.971 final_reward : 11.865\n",
      "from 2025-05-22 18:29:00 for 94mins of TSLA => avg_reward_episode : -0.560 final_reward : -12.702\n",
      "from 2025-05-22 20:03:00 for 91mins of TSLA => avg_reward_episode : 13.683 final_reward : 4.295\n",
      "from 2025-05-22 21:34:00 for 83mins of TSLA => avg_reward_episode : 4.801 final_reward : 5.652\n",
      "from 2025-05-22 22:57:00 for 56mins of TSLA => avg_reward_episode : 5.929 final_reward : 0.352\n",
      "from 2025-05-22 23:53:00 for 58mins of TSLA => avg_reward_episode : -0.040 final_reward : 0.033\n",
      "No data found for TSLA from 2025-05-23 00:51:00 to 2025-05-23 02:07:00. Skipping...\n",
      "No data found for TSLA from 2025-05-23 02:07:00 to 2025-05-23 02:59:00. Skipping...\n",
      "No data found for TSLA from 2025-05-23 02:59:00 to 2025-05-23 04:07:00. Skipping...\n",
      "No data found for TSLA from 2025-05-23 04:07:00 to 2025-05-23 04:57:00. Skipping...\n",
      "No data found for TSLA from 2025-05-23 04:57:00 to 2025-05-23 05:50:00. Skipping...\n",
      "No data found for TSLA from 2025-05-23 05:50:00 to 2025-05-23 07:25:00. Skipping...\n",
      "from 2025-05-23 07:25:00 for 63mins of TSLA => avg_reward_episode : -0.216 final_reward : -0.747\n",
      "from 2025-05-23 08:28:00 for 81mins of TSLA => avg_reward_episode : 13.825 final_reward : 48.562\n",
      "from 2025-05-23 09:49:00 for 92mins of TSLA => avg_reward_episode : -3.004 final_reward : 0.539\n",
      "from 2025-05-23 11:21:00 for 69mins of TSLA => avg_reward_episode : -25.488 final_reward : -9.261\n",
      "from 2025-05-23 12:30:00 for 81mins of TSLA => avg_reward_episode : -1.234 final_reward : 9.845\n",
      "from 2025-05-23 13:51:00 for 61mins of TSLA => avg_reward_episode : 4.406 final_reward : 5.295\n",
      "from 2025-05-23 14:52:00 for 98mins of TSLA => avg_reward_episode : -5.211 final_reward : -17.992\n",
      "from 2025-05-23 16:30:00 for 68mins of TSLA => avg_reward_episode : 24.275 final_reward : 48.301\n",
      "from 2025-05-23 17:38:00 for 65mins of TSLA => avg_reward_episode : -4.724 final_reward : 3.281\n",
      "from 2025-05-23 18:43:00 for 62mins of TSLA => avg_reward_episode : -2.614 final_reward : -22.090\n",
      "from 2025-05-23 19:45:00 for 86mins of TSLA => avg_reward_episode : -3.314 final_reward : 9.311\n",
      "from 2025-05-23 21:11:00 for 89mins of TSLA => avg_reward_episode : -0.758 final_reward : 0.767\n",
      "from 2025-05-23 22:40:00 for 89mins of TSLA => avg_reward_episode : 0.385 final_reward : 0.720\n",
      "No data found for TSLA from 2025-05-24 00:09:00 to 2025-05-24 01:07:00. Skipping...\n",
      "No data found for TSLA from 2025-05-24 01:07:00 to 2025-05-24 02:26:00. Skipping...\n",
      "No data found for TSLA from 2025-05-24 02:26:00 to 2025-05-24 04:02:00. Skipping...\n",
      "No data found for TSLA from 2025-05-24 04:02:00 to 2025-05-24 05:41:00. Skipping...\n",
      "No data found for TSLA from 2025-05-24 05:41:00 to 2025-05-24 06:55:00. Skipping...\n",
      "No data found for TSLA from 2025-05-24 06:55:00 to 2025-05-24 08:03:00. Skipping...\n",
      "No data found for TSLA from 2025-05-24 08:03:00 to 2025-05-24 09:18:00. Skipping...\n",
      "No data found for TSLA from 2025-05-24 09:18:00 to 2025-05-24 10:51:00. Skipping...\n",
      "No data found for TSLA from 2025-05-24 10:51:00 to 2025-05-24 11:53:00. Skipping...\n",
      "No data found for TSLA from 2025-05-24 11:53:00 to 2025-05-24 13:28:00. Skipping...\n",
      "No data found for TSLA from 2025-05-24 13:28:00 to 2025-05-24 14:35:00. Skipping...\n",
      "No data found for TSLA from 2025-05-24 14:35:00 to 2025-05-24 15:40:00. Skipping...\n",
      "No data found for TSLA from 2025-05-24 15:40:00 to 2025-05-24 16:45:00. Skipping...\n"
     ]
    }
   ],
   "source": [
    "train_model(\n",
    "    policy=DNN_policy,\n",
    "    start_date=start,\n",
    "    end_date=end,\n",
    "    headers=headers,\n",
    "    company=company,\n",
    "    log_file=log_file_path,\n",
    "    get_log=True,\n",
    "    sleep_time=5,)"
   ]
  },
  {
   "cell_type": "code",
   "execution_count": 8,
   "metadata": {},
   "outputs": [
    {
     "data": {
      "text/plain": [
       "array([ 0.15653248,  0.7491254 ,  1.34832836,  0.59226675,  0.66640139,\n",
       "       -0.17572528,  0.21349422,  1.43393055,  0.40313366,  0.36686762,\n",
       "       -0.09092778,  0.80060218,  0.11897942,  0.47076513, -0.19290914,\n",
       "        1.31308793,  1.04442473, -1.66369416, -0.20027079,  0.00887372])"
      ]
     },
     "execution_count": 8,
     "metadata": {},
     "output_type": "execute_result"
    }
   ],
   "source": [
    "DNN_policy.layers[0].W[0,0:20]"
   ]
  },
  {
   "cell_type": "code",
   "execution_count": 9,
   "metadata": {},
   "outputs": [],
   "source": [
    "policy_path = \"../model/tradoBot_v1.0.pkl\"\n",
    "file = open(policy_path,'wb')\n",
    "pickle.dump(DNN_policy,file)\n",
    "file.close()"
   ]
  }
 ],
 "metadata": {
  "kernelspec": {
   "display_name": "venv",
   "language": "python",
   "name": "python3"
  },
  "language_info": {
   "codemirror_mode": {
    "name": "ipython",
    "version": 3
   },
   "file_extension": ".py",
   "mimetype": "text/x-python",
   "name": "python",
   "nbconvert_exporter": "python",
   "pygments_lexer": "ipython3",
   "version": "3.12.8"
  }
 },
 "nbformat": 4,
 "nbformat_minor": 2
}
