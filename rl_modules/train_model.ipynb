{
 "cells": [
  {
   "cell_type": "markdown",
   "metadata": {},
   "source": [
    "# Training Policy\n",
    "\n",
    "##### This module deals with training any policy and serialize and store the model"
   ]
  },
  {
   "cell_type": "code",
   "execution_count": 86,
   "metadata": {},
   "outputs": [
    {
     "name": "stdout",
     "output_type": "stream",
     "text": [
      "The autoreload extension is already loaded. To reload it, use:\n",
      "  %reload_ext autoreload\n"
     ]
    }
   ],
   "source": [
    "%load_ext autoreload\n",
    "%autoreload 2"
   ]
  },
  {
   "cell_type": "code",
   "execution_count": 87,
   "metadata": {},
   "outputs": [],
   "source": [
    "import pandas as pd\n",
    "import numpy as np\n",
    "import pickle\n",
    "from my_packages.policy_train import PolicyTrain\n",
    "from my_packages.environment import StockEnv"
   ]
  },
  {
   "cell_type": "code",
   "execution_count": 88,
   "metadata": {},
   "outputs": [],
   "source": [
    "#this contains the path where the policy thaT is to be trained is stored\n",
    "policy_path = \"../model/model6inputs\"\n",
    "#now the path to data on which the policy would be trained\n",
    "data_path = \"./data/AAPL-jul-24.csv\""
   ]
  },
  {
   "cell_type": "code",
   "execution_count": 89,
   "metadata": {},
   "outputs": [],
   "source": [
    "file = open(policy_path , 'rb')\n",
    "policy = pickle.load(file)\n",
    "file.close()"
   ]
  },
  {
   "cell_type": "code",
   "execution_count": 90,
   "metadata": {},
   "outputs": [
    {
     "data": {
      "text/plain": [
       "['c-o/o', 'h-l/o', 'h-o/o', 'o-l/o', 'c', 'vol']"
      ]
     },
     "execution_count": 90,
     "metadata": {},
     "output_type": "execute_result"
    }
   ],
   "source": [
    "# the feature that are required for this model is :\n",
    "policy.data_features"
   ]
  },
  {
   "cell_type": "code",
   "execution_count": 91,
   "metadata": {},
   "outputs": [
    {
     "data": {
      "text/plain": [
       "array([ 0.01644218, -0.0089881 , -0.00302969, -0.00428415,  0.01272927,\n",
       "        0.00295105,  0.00127162,  0.02243782,  0.01062767,  0.00028178,\n",
       "        0.00118358,  0.00126384,  0.01411984,  0.02218069,  0.00496575,\n",
       "       -0.00668175, -0.0098788 , -0.00528056, -0.01223937,  0.02107784])"
      ]
     },
     "execution_count": 91,
     "metadata": {},
     "output_type": "execute_result"
    }
   ],
   "source": [
    "policy.layers[0].W[0,0:20]"
   ]
  },
  {
   "cell_type": "code",
   "execution_count": 92,
   "metadata": {},
   "outputs": [
    {
     "data": {
      "text/html": [
       "<div>\n",
       "<style scoped>\n",
       "    .dataframe tbody tr th:only-of-type {\n",
       "        vertical-align: middle;\n",
       "    }\n",
       "\n",
       "    .dataframe tbody tr th {\n",
       "        vertical-align: top;\n",
       "    }\n",
       "\n",
       "    .dataframe thead th {\n",
       "        text-align: right;\n",
       "    }\n",
       "</style>\n",
       "<table border=\"1\" class=\"dataframe\">\n",
       "  <thead>\n",
       "    <tr style=\"text-align: right;\">\n",
       "      <th></th>\n",
       "      <th>c</th>\n",
       "      <th>h</th>\n",
       "      <th>l</th>\n",
       "      <th>n</th>\n",
       "      <th>o</th>\n",
       "      <th>t</th>\n",
       "      <th>v</th>\n",
       "      <th>vw</th>\n",
       "    </tr>\n",
       "  </thead>\n",
       "  <tbody>\n",
       "    <tr>\n",
       "      <th>0</th>\n",
       "      <td>211.84</td>\n",
       "      <td>211.89</td>\n",
       "      <td>211.70</td>\n",
       "      <td>168</td>\n",
       "      <td>211.89</td>\n",
       "      <td>2024-07-01T08:00:00Z</td>\n",
       "      <td>2488</td>\n",
       "      <td>211.801805</td>\n",
       "    </tr>\n",
       "    <tr>\n",
       "      <th>1</th>\n",
       "      <td>211.68</td>\n",
       "      <td>211.68</td>\n",
       "      <td>211.68</td>\n",
       "      <td>44</td>\n",
       "      <td>211.68</td>\n",
       "      <td>2024-07-01T08:01:00Z</td>\n",
       "      <td>800</td>\n",
       "      <td>211.680000</td>\n",
       "    </tr>\n",
       "    <tr>\n",
       "      <th>2</th>\n",
       "      <td>211.83</td>\n",
       "      <td>211.83</td>\n",
       "      <td>211.78</td>\n",
       "      <td>37</td>\n",
       "      <td>211.78</td>\n",
       "      <td>2024-07-01T08:02:00Z</td>\n",
       "      <td>1587</td>\n",
       "      <td>211.793333</td>\n",
       "    </tr>\n",
       "    <tr>\n",
       "      <th>3</th>\n",
       "      <td>211.79</td>\n",
       "      <td>211.88</td>\n",
       "      <td>211.79</td>\n",
       "      <td>51</td>\n",
       "      <td>211.83</td>\n",
       "      <td>2024-07-01T08:03:00Z</td>\n",
       "      <td>4499</td>\n",
       "      <td>211.804940</td>\n",
       "    </tr>\n",
       "    <tr>\n",
       "      <th>4</th>\n",
       "      <td>211.71</td>\n",
       "      <td>211.71</td>\n",
       "      <td>211.71</td>\n",
       "      <td>68</td>\n",
       "      <td>211.71</td>\n",
       "      <td>2024-07-01T08:04:00Z</td>\n",
       "      <td>1677</td>\n",
       "      <td>211.710000</td>\n",
       "    </tr>\n",
       "  </tbody>\n",
       "</table>\n",
       "</div>"
      ],
      "text/plain": [
       "        c       h       l    n       o                     t     v          vw\n",
       "0  211.84  211.89  211.70  168  211.89  2024-07-01T08:00:00Z  2488  211.801805\n",
       "1  211.68  211.68  211.68   44  211.68  2024-07-01T08:01:00Z   800  211.680000\n",
       "2  211.83  211.83  211.78   37  211.78  2024-07-01T08:02:00Z  1587  211.793333\n",
       "3  211.79  211.88  211.79   51  211.83  2024-07-01T08:03:00Z  4499  211.804940\n",
       "4  211.71  211.71  211.71   68  211.71  2024-07-01T08:04:00Z  1677  211.710000"
      ]
     },
     "execution_count": 92,
     "metadata": {},
     "output_type": "execute_result"
    }
   ],
   "source": [
    "df = pd.read_csv(data_path)\n",
    "df.head()"
   ]
  },
  {
   "cell_type": "markdown",
   "metadata": {},
   "source": [
    "for scalling purposes we want to scale the ratios multipling them by 100 , the close price is scaled down by 1e3 and the volume will be scaled down by a fraction of 1e7"
   ]
  },
  {
   "cell_type": "code",
   "execution_count": 93,
   "metadata": {},
   "outputs": [
    {
     "data": {
      "text/html": [
       "<div>\n",
       "<style scoped>\n",
       "    .dataframe tbody tr th:only-of-type {\n",
       "        vertical-align: middle;\n",
       "    }\n",
       "\n",
       "    .dataframe tbody tr th {\n",
       "        vertical-align: top;\n",
       "    }\n",
       "\n",
       "    .dataframe thead th {\n",
       "        text-align: right;\n",
       "    }\n",
       "</style>\n",
       "<table border=\"1\" class=\"dataframe\">\n",
       "  <thead>\n",
       "    <tr style=\"text-align: right;\">\n",
       "      <th></th>\n",
       "      <th>co</th>\n",
       "      <th>hl</th>\n",
       "      <th>ho</th>\n",
       "      <th>ol</th>\n",
       "      <th>c</th>\n",
       "      <th>vol</th>\n",
       "    </tr>\n",
       "  </thead>\n",
       "  <tbody>\n",
       "    <tr>\n",
       "      <th>0</th>\n",
       "      <td>-0.002360</td>\n",
       "      <td>0.008967</td>\n",
       "      <td>0.000000</td>\n",
       "      <td>0.008967</td>\n",
       "      <td>0.21184</td>\n",
       "      <td>0.000249</td>\n",
       "    </tr>\n",
       "    <tr>\n",
       "      <th>1</th>\n",
       "      <td>0.000000</td>\n",
       "      <td>0.000000</td>\n",
       "      <td>0.000000</td>\n",
       "      <td>0.000000</td>\n",
       "      <td>0.21168</td>\n",
       "      <td>0.000080</td>\n",
       "    </tr>\n",
       "    <tr>\n",
       "      <th>2</th>\n",
       "      <td>0.002361</td>\n",
       "      <td>0.002361</td>\n",
       "      <td>0.002361</td>\n",
       "      <td>0.000000</td>\n",
       "      <td>0.21183</td>\n",
       "      <td>0.000159</td>\n",
       "    </tr>\n",
       "    <tr>\n",
       "      <th>3</th>\n",
       "      <td>-0.001888</td>\n",
       "      <td>0.004249</td>\n",
       "      <td>0.002360</td>\n",
       "      <td>0.001888</td>\n",
       "      <td>0.21179</td>\n",
       "      <td>0.000450</td>\n",
       "    </tr>\n",
       "    <tr>\n",
       "      <th>4</th>\n",
       "      <td>0.000000</td>\n",
       "      <td>0.000000</td>\n",
       "      <td>0.000000</td>\n",
       "      <td>0.000000</td>\n",
       "      <td>0.21171</td>\n",
       "      <td>0.000168</td>\n",
       "    </tr>\n",
       "  </tbody>\n",
       "</table>\n",
       "</div>"
      ],
      "text/plain": [
       "         co        hl        ho        ol        c       vol\n",
       "0 -0.002360  0.008967  0.000000  0.008967  0.21184  0.000249\n",
       "1  0.000000  0.000000  0.000000  0.000000  0.21168  0.000080\n",
       "2  0.002361  0.002361  0.002361  0.000000  0.21183  0.000159\n",
       "3 -0.001888  0.004249  0.002360  0.001888  0.21179  0.000450\n",
       "4  0.000000  0.000000  0.000000  0.000000  0.21171  0.000168"
      ]
     },
     "execution_count": 93,
     "metadata": {},
     "output_type": "execute_result"
    }
   ],
   "source": [
    "training_df = pd.DataFrame()\n",
    "training_df.insert(0,'co',((df['c'] - df['o'] )*10/ df['o']), allow_duplicates=True)\n",
    "training_df.insert(1,'hl',((df['h'] - df['l'] )*10/ df['o']), allow_duplicates=True)\n",
    "training_df.insert(2,'ho',((df['h'] - df['o'] )*10/ df['o']), allow_duplicates=True)\n",
    "training_df.insert(3,'ol',((df['o'] - df['l'] )*10/ df['o']), allow_duplicates=True)\n",
    "training_df.insert(4,'c',(df['c']/1000),allow_duplicates=True)\n",
    "training_df.insert(5,'vol',(df['v']/10000000), allow_duplicates=True)\n",
    "training_df.head()"
   ]
  },
  {
   "cell_type": "code",
   "execution_count": 94,
   "metadata": {},
   "outputs": [
    {
     "name": "stdout",
     "output_type": "stream",
     "text": [
      "max :  co     0.119515\n",
      "hl     0.196283\n",
      "ho     0.195413\n",
      "ol     0.153042\n",
      "c      0.236927\n",
      "vol    0.917720\n",
      "dtype: float64\n",
      "min :  co    -0.150898\n",
      "hl     0.000000\n",
      "ho     0.000000\n",
      "ol     0.000000\n",
      "c      0.210500\n",
      "vol    0.000011\n",
      "dtype: float64\n",
      "avg :  co     0.000019\n",
      "hl     0.006092\n",
      "ho     0.003025\n",
      "ol     0.003067\n",
      "c      0.227053\n",
      "vol    0.007326\n",
      "dtype: float64\n"
     ]
    }
   ],
   "source": [
    "print(\"max : \",training_df.max(axis=0))\n",
    "print(\"min : \",training_df.min(axis=0))\n",
    "print(\"avg : \",training_df.mean(axis=0))\n",
    "\n"
   ]
  },
  {
   "cell_type": "code",
   "execution_count": 95,
   "metadata": {},
   "outputs": [
    {
     "data": {
      "text/plain": [
       "(10000, 6)"
      ]
     },
     "execution_count": 95,
     "metadata": {},
     "output_type": "execute_result"
    }
   ],
   "source": [
    "X = training_df.to_numpy()\n",
    "X.shape"
   ]
  },
  {
   "cell_type": "code",
   "execution_count": 96,
   "metadata": {},
   "outputs": [],
   "source": [
    "env = StockEnv()\n",
    "env.set_env_data(X)"
   ]
  },
  {
   "cell_type": "code",
   "execution_count": 97,
   "metadata": {},
   "outputs": [],
   "source": [
    "training_tool = PolicyTrain(policy,env,epsilon=0.5,gamma=0.9)"
   ]
  },
  {
   "cell_type": "code",
   "execution_count": 98,
   "metadata": {},
   "outputs": [],
   "source": [
    "training_tool.episode_train(batch_size=100)\n",
    "policy.training_log.append(data_path)"
   ]
  },
  {
   "cell_type": "code",
   "execution_count": 99,
   "metadata": {},
   "outputs": [
    {
     "data": {
      "text/plain": [
       "(array([1, 2]), array([1498, 8502]))"
      ]
     },
     "execution_count": 99,
     "metadata": {},
     "output_type": "execute_result"
    }
   ],
   "source": [
    "prediction = policy.predict(X)\n",
    "uniq = np.unique(np.argmax(prediction , axis=1), return_counts=True, equal_nan=False)\n",
    "uniq"
   ]
  },
  {
   "cell_type": "code",
   "execution_count": 100,
   "metadata": {},
   "outputs": [
    {
     "data": {
      "text/plain": [
       "['./data/AAPL-may-24.csv', './data/AAPL-jun-24.csv', './data/AAPL-jul-24.csv']"
      ]
     },
     "execution_count": 100,
     "metadata": {},
     "output_type": "execute_result"
    }
   ],
   "source": [
    "policy.training_log"
   ]
  },
  {
   "cell_type": "code",
   "execution_count": 101,
   "metadata": {},
   "outputs": [
    {
     "data": {
      "text/plain": [
       "array([ 0.01644218, -0.0089881 , -0.00302969, -0.00428415,  0.01272927,\n",
       "        0.00295105,  0.00127162,  0.02243782,  0.01062767,  0.00028178,\n",
       "        0.00118358,  0.00126384,  0.01411984,  0.02218069,  0.00496575,\n",
       "       -0.00668175, -0.0098788 , -0.00528056, -0.01223937,  0.02107784])"
      ]
     },
     "execution_count": 101,
     "metadata": {},
     "output_type": "execute_result"
    }
   ],
   "source": [
    "policy.layers[0].W[0,0:20]"
   ]
  },
  {
   "cell_type": "code",
   "execution_count": 102,
   "metadata": {},
   "outputs": [],
   "source": [
    "file = open(policy_path,'wb')\n",
    "pickle.dump(policy,file)\n",
    "file.close()"
   ]
  }
 ],
 "metadata": {
  "kernelspec": {
   "display_name": "venv",
   "language": "python",
   "name": "python3"
  },
  "language_info": {
   "codemirror_mode": {
    "name": "ipython",
    "version": 3
   },
   "file_extension": ".py",
   "mimetype": "text/x-python",
   "name": "python",
   "nbconvert_exporter": "python",
   "pygments_lexer": "ipython3",
   "version": "3.12.8"
  }
 },
 "nbformat": 4,
 "nbformat_minor": 2
}
