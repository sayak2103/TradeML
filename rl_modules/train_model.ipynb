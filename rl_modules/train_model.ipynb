{
 "cells": [
  {
   "cell_type": "markdown",
   "metadata": {},
   "source": [
    "# Training Policy\n",
    "\n",
    "##### This module deals with training any policy and serialize and store the model"
   ]
  },
  {
   "cell_type": "code",
   "execution_count": 1,
   "metadata": {},
   "outputs": [],
   "source": [
    "%load_ext autoreload\n",
    "%autoreload 2"
   ]
  },
  {
   "cell_type": "code",
   "execution_count": 3,
   "metadata": {},
   "outputs": [],
   "source": [
    "import pickle\n",
    "import datetime\n",
    "import os\n",
    "import tensorflow as tf\n",
    "from utils import train_model"
   ]
  },
  {
   "cell_type": "code",
   "execution_count": 4,
   "metadata": {},
   "outputs": [],
   "source": [
    "from dotenv import dotenv_values\n",
    "env_vars = dotenv_values('.env')"
   ]
  },
  {
   "cell_type": "code",
   "execution_count": 5,
   "metadata": {},
   "outputs": [],
   "source": [
    "start = datetime.datetime(2025, 5, 20, 9, 30, 0)\n",
    "end = datetime.datetime(2025, 5, 20, 10, 30, 0)\n",
    "headers = {\n",
    "    \"accept\": \"application/json\",\n",
    "    \"APCA-API-KEY-ID\": env_vars[\"ALPACA_API_KEY\"],\n",
    "    \"APCA-API-SECRET-KEY\": env_vars[\"ALPACA_API_SECRET\"],\n",
    "}\n",
    "company = \"TSLA\"\n",
    "model_name = \"tardoBot_v2.0\"\n",
    "model_save_path = \"../models/tradoBot_v2.0\"\n",
    "log_file_path = \"../model_logs/tradoBot_v2.0_logs.txt\""
   ]
  },
  {
   "cell_type": "code",
   "execution_count": 6,
   "metadata": {},
   "outputs": [],
   "source": [
    "# data_features = number of input features after data processsing = len(policy.data_features)\n",
    "data_features = 6\n",
    "policy = tf.keras.Sequential([\n",
    "    tf.keras.layers.Input(shape=(data_features,)),\n",
    "    tf.keras.layers.Dense(64, activation='relu'),\n",
    "    tf.keras.layers.Dense(64, activation='relu'),\n",
    "    tf.keras.layers.Dense(3)\n",
    "])\n",
    "policy.data_features = ([\"c-o/o\", \"h-l/o\", \"h-o/o\", \"o-l/o\", \"c\", \"vol\"])  # feature names"
   ]
  },
  {
   "cell_type": "code",
   "execution_count": 7,
   "metadata": {},
   "outputs": [
    {
     "name": "stdout",
     "output_type": "stream",
     "text": [
      "Weights shape of each layer:\n",
      "dense: [(6, 64), (64,)]\n",
      "dense_1: [(64, 64), (64,)]\n",
      "dense_2: [(64, 3), (3,)]\n"
     ]
    }
   ],
   "source": [
    "print(\"Weights shape of each layer:\")\n",
    "for layer in policy.layers:\n",
    "    weights = layer.get_weights()\n",
    "    print(f\"{layer.name}: {[w.shape for w in weights]}\")"
   ]
  },
  {
   "cell_type": "markdown",
   "metadata": {},
   "source": [
    "6. Train Model"
   ]
  },
  {
   "cell_type": "code",
   "execution_count": 15,
   "metadata": {},
   "outputs": [
    {
     "name": "stdout",
     "output_type": "stream",
     "text": [
      "from 2025-05-20 09:30:00 for 72mins of TSLA => reward : max : 10.550,avg : 3.139, final : 1.652\n"
     ]
    }
   ],
   "source": [
    "train_model(\n",
    "    policy=policy,\n",
    "    start_date=start,\n",
    "    end_date=end,\n",
    "    headers=headers,\n",
    "    company=company,\n",
    "    log_file=None,\n",
    "    get_log=True,\n",
    "    sleep_time=3,)"
   ]
  },
  {
   "cell_type": "code",
   "execution_count": 9,
   "metadata": {},
   "outputs": [],
   "source": [
    "policy_path = \"../model/tradoBot_v1.0.pkl\"\n",
    "file = open(policy_path,'wb')\n",
    "pickle.dump(DNN_policy,file)\n",
    "file.close()"
   ]
  }
 ],
 "metadata": {
  "kernelspec": {
   "display_name": "venv",
   "language": "python",
   "name": "python3"
  },
  "language_info": {
   "codemirror_mode": {
    "name": "ipython",
    "version": 3
   },
   "file_extension": ".py",
   "mimetype": "text/x-python",
   "name": "python",
   "nbconvert_exporter": "python",
   "pygments_lexer": "ipython3",
   "version": "3.12.8"
  }
 },
 "nbformat": 4,
 "nbformat_minor": 2
}
