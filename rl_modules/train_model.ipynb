{
 "cells": [
  {
   "cell_type": "markdown",
   "metadata": {},
   "source": [
    "# Training Policy\n",
    "\n",
    "##### This module deals with training any policy and serialize and store the model"
   ]
  },
  {
   "cell_type": "code",
   "execution_count": 68,
   "metadata": {},
   "outputs": [
    {
     "name": "stdout",
     "output_type": "stream",
     "text": [
      "The autoreload extension is already loaded. To reload it, use:\n",
      "  %reload_ext autoreload\n"
     ]
    }
   ],
   "source": [
    "%load_ext autoreload\n",
    "%autoreload 2"
   ]
  },
  {
   "cell_type": "code",
   "execution_count": 69,
   "metadata": {},
   "outputs": [],
   "source": [
    "import pandas as pd\n",
    "import numpy as np\n",
    "import pickle\n",
    "import requests\n",
    "import datetime\n",
    "import pytz\n",
    "from my_packages.policy_train import PolicyTrain\n",
    "from my_packages.environment import StockEnv"
   ]
  },
  {
   "cell_type": "code",
   "execution_count": 70,
   "metadata": {},
   "outputs": [],
   "source": [
    "from dotenv import dotenv_values\n",
    "env_vars = dotenv_values('.env')  # Load environment variables from .env file"
   ]
  },
  {
   "cell_type": "code",
   "execution_count": null,
   "metadata": {},
   "outputs": [],
   "source": [
    "#data to train the model for a range of dates\n",
    "def train_model(policy, start_date, end_date, company, headers, get_log=False): \n",
    "    while(start_date < end_date) :\n",
    "        #conversion to UTC\n",
    "        utc_start_time = pytz.utc.localize(start_date)\n",
    "        #conversion to rc3339 format as accepted by ALPACA API\n",
    "        rc3339_start = utc_start_time.isoformat()\n",
    "\n",
    "        #random limit for the number of minutes to train E [50,100]\n",
    "        limit = np.random.randint(50, 100)\n",
    "\n",
    "        utc_end_time = utc_start_time + datetime.timedelta(minutes=limit)\n",
    "        rc3339_end = utc_end_time.isoformat()\n",
    "        print(f\"Training from {rc3339_start} to {rc3339_end}\")\n",
    "\n",
    "        #ALPACA API call to get the data\n",
    "        url = f\"https://data.alpaca.markets/v2/stocks/bars?symbols={company}&timeframe=1Min&start={rc3339_start[:19]+'Z'}&end={rc3339_end[:19]+'Z'}&limit={limit}&adjustment=raw&feed=sip&sort=asc\"\n",
    "        response = requests.get(url, headers=headers)\n",
    "        json_data = response.json()\n",
    "\n",
    "        #dataframe creation\n",
    "        df = pd.DataFrame(json_data['bars'][f'{company}'])\n",
    "        #data preprocessing\n",
    "        training_df = pd.DataFrame()\n",
    "        training_df.insert(0,'co',((df['c'] - df['o'] )*10/ df['o']), allow_duplicates=True)\n",
    "        training_df.insert(1,'hl',((df['h'] - df['l'] )*10/ df['o']), allow_duplicates=True)\n",
    "        training_df.insert(2,'ho',((df['h'] - df['o'] )*10/ df['o']), allow_duplicates=True)\n",
    "        training_df.insert(3,'ol',((df['o'] - df['l'] )*10/ df['o']), allow_duplicates=True)\n",
    "        training_df.insert(4,'c',(df['c']/1000),allow_duplicates=True)\n",
    "        training_df.insert(5,'vol',(df['v']/10000000), allow_duplicates=True)\n",
    "\n",
    "        X = training_df.to_numpy()# numpy array prepared of corresponding dataframe\n",
    "\n",
    "        #environment setup\n",
    "        env = StockEnv()\n",
    "        env.set_env_data(X)#set the data to the environment\n",
    "        \n",
    "        #training tool setup\n",
    "        training_tool = PolicyTrain(policy,env,epsilon=0.9,gamma=0.9)\n",
    "        #training tool training\n",
    "        training_tool.episode_train(batch_size=400, get_log=get_log)\n",
    "        #updating start_date for the next iteration\n",
    "        start_date += datetime.timedelta(minutes=limit) \n"
   ]
  },
  {
   "cell_type": "code",
   "execution_count": 72,
   "metadata": {},
   "outputs": [],
   "source": [
    "#this contains the path where the policy thaT is to be trained is stored\n",
    "policy_path = \"../model/model6inputs\""
   ]
  },
  {
   "cell_type": "code",
   "execution_count": 73,
   "metadata": {},
   "outputs": [],
   "source": [
    "file = open(policy_path , 'rb')\n",
    "policy = pickle.load(file)\n",
    "file.close()"
   ]
  },
  {
   "cell_type": "code",
   "execution_count": 79,
   "metadata": {},
   "outputs": [],
   "source": [
    "start_date = datetime.datetime(2024, 1, 3, 9, 30, 0)\n",
    "end_date = datetime.datetime(2024, 1, 3, 11, 0, 0)\n",
    "headers = {\n",
    "    \"accept\": \"application/json\",\n",
    "    \"APCA-API-KEY-ID\": env_vars[\"ALPACA_API_KEY\"],\n",
    "    \"APCA-API-SECRET-KEY\": env_vars[\"ALPACA_API_SECRET\"],\n",
    "}"
   ]
  },
  {
   "cell_type": "code",
   "execution_count": 80,
   "metadata": {},
   "outputs": [
    {
     "name": "stdout",
     "output_type": "stream",
     "text": [
      "Training from 2024-01-03T09:30:00+00:00 to 2024-01-03T11:07:00+00:00\n"
     ]
    }
   ],
   "source": [
    "train_model(policy, start_date, end_date, 'TSLA', headers, get_log=False)"
   ]
  },
  {
   "cell_type": "code",
   "execution_count": 81,
   "metadata": {},
   "outputs": [
    {
     "data": {
      "text/plain": [
       "array([ 0.86787786,  0.89229731,  0.87624142,  1.46541578,  1.47182501,\n",
       "       -0.00813568,  0.87091785,  0.8954603 ,  0.0061263 ,  0.88306299,\n",
       "        0.00731507,  0.89757116,  1.50003431,  1.49236362,  0.86874734,\n",
       "        0.88679481,  1.46824356,  1.46584178,  0.87759466,  0.91752057])"
      ]
     },
     "execution_count": 81,
     "metadata": {},
     "output_type": "execute_result"
    }
   ],
   "source": [
    "policy.layers[0].W[0,0:20]"
   ]
  },
  {
   "cell_type": "code",
   "execution_count": 77,
   "metadata": {},
   "outputs": [],
   "source": [
    "file = open(policy_path,'wb')\n",
    "pickle.dump(policy,file)\n",
    "file.close()"
   ]
  }
 ],
 "metadata": {
  "kernelspec": {
   "display_name": "venv",
   "language": "python",
   "name": "python3"
  },
  "language_info": {
   "codemirror_mode": {
    "name": "ipython",
    "version": 3
   },
   "file_extension": ".py",
   "mimetype": "text/x-python",
   "name": "python",
   "nbconvert_exporter": "python",
   "pygments_lexer": "ipython3",
   "version": "3.12.8"
  }
 },
 "nbformat": 4,
 "nbformat_minor": 2
}
