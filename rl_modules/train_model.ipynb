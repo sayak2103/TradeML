{
 "cells": [
  {
   "cell_type": "markdown",
   "metadata": {},
   "source": [
    "# Training Policy\n",
    "\n",
    "##### This module deals with training any policy and serialize and store the model"
   ]
  },
  {
   "cell_type": "code",
   "execution_count": 33,
   "metadata": {},
   "outputs": [],
   "source": [
    "import pandas as pd\n",
    "import numpy as np\n",
    "import pickle\n",
    "from my_packages.policy_train import PolicyTrain\n",
    "from my_packages.environment import StockEnv"
   ]
  },
  {
   "cell_type": "code",
   "execution_count": 34,
   "metadata": {},
   "outputs": [],
   "source": [
    "#this contains the path where the policy thaT is to be trained is stored\n",
    "policy_path = \"../model/model7inputs\"\n",
    "#now the path to data on which the policy would be trained\n",
    "data_path = \"./data/AAPL-feb-25.csv\""
   ]
  },
  {
   "cell_type": "code",
   "execution_count": 35,
   "metadata": {},
   "outputs": [],
   "source": [
    "file = open(policy_path , 'rb')\n",
    "policy = pickle.load(file)\n",
    "file.close()"
   ]
  },
  {
   "cell_type": "code",
   "execution_count": 36,
   "metadata": {},
   "outputs": [
    {
     "data": {
      "text/plain": [
       "['c-o/o', 'h-l/o', 'h-o/o', 'o-l/o', 'c', 'vol', 'avg_purchase_price']"
      ]
     },
     "execution_count": 36,
     "metadata": {},
     "output_type": "execute_result"
    }
   ],
   "source": [
    "# the feature that are required for this model is :\n",
    "policy.data_features"
   ]
  },
  {
   "cell_type": "code",
   "execution_count": 37,
   "metadata": {},
   "outputs": [
    {
     "data": {
      "text/html": [
       "<div>\n",
       "<style scoped>\n",
       "    .dataframe tbody tr th:only-of-type {\n",
       "        vertical-align: middle;\n",
       "    }\n",
       "\n",
       "    .dataframe tbody tr th {\n",
       "        vertical-align: top;\n",
       "    }\n",
       "\n",
       "    .dataframe thead th {\n",
       "        text-align: right;\n",
       "    }\n",
       "</style>\n",
       "<table border=\"1\" class=\"dataframe\">\n",
       "  <thead>\n",
       "    <tr style=\"text-align: right;\">\n",
       "      <th></th>\n",
       "      <th>c</th>\n",
       "      <th>h</th>\n",
       "      <th>l</th>\n",
       "      <th>n</th>\n",
       "      <th>o</th>\n",
       "      <th>t</th>\n",
       "      <th>v</th>\n",
       "      <th>vw</th>\n",
       "    </tr>\n",
       "  </thead>\n",
       "  <tbody>\n",
       "    <tr>\n",
       "      <th>0</th>\n",
       "      <td>234.9493</td>\n",
       "      <td>234.9493</td>\n",
       "      <td>234.9200</td>\n",
       "      <td>16</td>\n",
       "      <td>234.9200</td>\n",
       "      <td>2025-02-01T00:00:00Z</td>\n",
       "      <td>380</td>\n",
       "      <td>234.939340</td>\n",
       "    </tr>\n",
       "    <tr>\n",
       "      <th>1</th>\n",
       "      <td>235.0695</td>\n",
       "      <td>235.0695</td>\n",
       "      <td>234.9204</td>\n",
       "      <td>35</td>\n",
       "      <td>234.9204</td>\n",
       "      <td>2025-02-01T00:01:00Z</td>\n",
       "      <td>3894</td>\n",
       "      <td>235.058980</td>\n",
       "    </tr>\n",
       "    <tr>\n",
       "      <th>2</th>\n",
       "      <td>234.9220</td>\n",
       "      <td>234.9220</td>\n",
       "      <td>234.9220</td>\n",
       "      <td>20</td>\n",
       "      <td>234.9220</td>\n",
       "      <td>2025-02-01T00:02:00Z</td>\n",
       "      <td>184</td>\n",
       "      <td>234.922000</td>\n",
       "    </tr>\n",
       "    <tr>\n",
       "      <th>3</th>\n",
       "      <td>234.9201</td>\n",
       "      <td>234.9980</td>\n",
       "      <td>234.9201</td>\n",
       "      <td>20</td>\n",
       "      <td>234.9980</td>\n",
       "      <td>2025-02-01T00:03:00Z</td>\n",
       "      <td>946</td>\n",
       "      <td>234.947742</td>\n",
       "    </tr>\n",
       "    <tr>\n",
       "      <th>4</th>\n",
       "      <td>234.9323</td>\n",
       "      <td>234.9323</td>\n",
       "      <td>234.9323</td>\n",
       "      <td>18</td>\n",
       "      <td>234.9323</td>\n",
       "      <td>2025-02-01T00:04:00Z</td>\n",
       "      <td>255</td>\n",
       "      <td>234.932300</td>\n",
       "    </tr>\n",
       "  </tbody>\n",
       "</table>\n",
       "</div>"
      ],
      "text/plain": [
       "          c         h         l   n         o                     t     v  \\\n",
       "0  234.9493  234.9493  234.9200  16  234.9200  2025-02-01T00:00:00Z   380   \n",
       "1  235.0695  235.0695  234.9204  35  234.9204  2025-02-01T00:01:00Z  3894   \n",
       "2  234.9220  234.9220  234.9220  20  234.9220  2025-02-01T00:02:00Z   184   \n",
       "3  234.9201  234.9980  234.9201  20  234.9980  2025-02-01T00:03:00Z   946   \n",
       "4  234.9323  234.9323  234.9323  18  234.9323  2025-02-01T00:04:00Z   255   \n",
       "\n",
       "           vw  \n",
       "0  234.939340  \n",
       "1  235.058980  \n",
       "2  234.922000  \n",
       "3  234.947742  \n",
       "4  234.932300  "
      ]
     },
     "execution_count": 37,
     "metadata": {},
     "output_type": "execute_result"
    }
   ],
   "source": [
    "df = pd.read_csv(data_path)\n",
    "df.head()"
   ]
  },
  {
   "cell_type": "markdown",
   "metadata": {},
   "source": [
    "for scalling purposes we want to scale the ratios multipling them by 100 , the close price is scaled down by 1e4 and the volume will be scaled down by a fraction of 1e5 "
   ]
  },
  {
   "cell_type": "code",
   "execution_count": 38,
   "metadata": {},
   "outputs": [
    {
     "data": {
      "text/html": [
       "<div>\n",
       "<style scoped>\n",
       "    .dataframe tbody tr th:only-of-type {\n",
       "        vertical-align: middle;\n",
       "    }\n",
       "\n",
       "    .dataframe tbody tr th {\n",
       "        vertical-align: top;\n",
       "    }\n",
       "\n",
       "    .dataframe thead th {\n",
       "        text-align: right;\n",
       "    }\n",
       "</style>\n",
       "<table border=\"1\" class=\"dataframe\">\n",
       "  <thead>\n",
       "    <tr style=\"text-align: right;\">\n",
       "      <th></th>\n",
       "      <th>co</th>\n",
       "      <th>hl</th>\n",
       "      <th>ho</th>\n",
       "      <th>ol</th>\n",
       "      <th>c</th>\n",
       "      <th>vol</th>\n",
       "    </tr>\n",
       "  </thead>\n",
       "  <tbody>\n",
       "    <tr>\n",
       "      <th>0</th>\n",
       "      <td>0.012472</td>\n",
       "      <td>0.012472</td>\n",
       "      <td>0.012472</td>\n",
       "      <td>0.000000</td>\n",
       "      <td>0.023495</td>\n",
       "      <td>0.00380</td>\n",
       "    </tr>\n",
       "    <tr>\n",
       "      <th>1</th>\n",
       "      <td>0.063468</td>\n",
       "      <td>0.063468</td>\n",
       "      <td>0.063468</td>\n",
       "      <td>0.000000</td>\n",
       "      <td>0.023507</td>\n",
       "      <td>0.03894</td>\n",
       "    </tr>\n",
       "    <tr>\n",
       "      <th>2</th>\n",
       "      <td>0.000000</td>\n",
       "      <td>0.000000</td>\n",
       "      <td>0.000000</td>\n",
       "      <td>0.000000</td>\n",
       "      <td>0.023492</td>\n",
       "      <td>0.00184</td>\n",
       "    </tr>\n",
       "    <tr>\n",
       "      <th>3</th>\n",
       "      <td>-0.033149</td>\n",
       "      <td>0.033149</td>\n",
       "      <td>0.000000</td>\n",
       "      <td>0.033149</td>\n",
       "      <td>0.023492</td>\n",
       "      <td>0.00946</td>\n",
       "    </tr>\n",
       "    <tr>\n",
       "      <th>4</th>\n",
       "      <td>0.000000</td>\n",
       "      <td>0.000000</td>\n",
       "      <td>0.000000</td>\n",
       "      <td>0.000000</td>\n",
       "      <td>0.023493</td>\n",
       "      <td>0.00255</td>\n",
       "    </tr>\n",
       "  </tbody>\n",
       "</table>\n",
       "</div>"
      ],
      "text/plain": [
       "         co        hl        ho        ol         c      vol\n",
       "0  0.012472  0.012472  0.012472  0.000000  0.023495  0.00380\n",
       "1  0.063468  0.063468  0.063468  0.000000  0.023507  0.03894\n",
       "2  0.000000  0.000000  0.000000  0.000000  0.023492  0.00184\n",
       "3 -0.033149  0.033149  0.000000  0.033149  0.023492  0.00946\n",
       "4  0.000000  0.000000  0.000000  0.000000  0.023493  0.00255"
      ]
     },
     "execution_count": 38,
     "metadata": {},
     "output_type": "execute_result"
    }
   ],
   "source": [
    "training_df = pd.DataFrame()\n",
    "training_df.insert(0,'co',((df['c'] - df['o'] )*100/ df['o']), allow_duplicates=True)\n",
    "training_df.insert(1,'hl',((df['h'] - df['l'] )*100/ df['o']), allow_duplicates=True)\n",
    "training_df.insert(2,'ho',((df['h'] - df['o'] )*100/ df['o']), allow_duplicates=True)\n",
    "training_df.insert(3,'ol',((df['o'] - df['l'] )*100/ df['o']), allow_duplicates=True)\n",
    "training_df.insert(4,'c',(df['c']/10000),allow_duplicates=True)\n",
    "training_df.insert(5,'vol',(df['v']/100000), allow_duplicates=True)\n",
    "training_df.head()"
   ]
  },
  {
   "cell_type": "code",
   "execution_count": 39,
   "metadata": {},
   "outputs": [
    {
     "name": "stdout",
     "output_type": "stream",
     "text": [
      "max :  co       0.995443\n",
      "hl       3.247154\n",
      "ho       2.523604\n",
      "ol       1.620441\n",
      "c        0.024860\n",
      "vol    134.577090\n",
      "dtype: float64\n",
      "min :  co    -1.397685\n",
      "hl     0.000000\n",
      "ho     0.000000\n",
      "ol     0.000000\n",
      "c      0.022575\n",
      "vol    0.001000\n",
      "dtype: float64\n",
      "avg :  co     0.001120\n",
      "hl     0.058968\n",
      "ho     0.030308\n",
      "ol     0.028660\n",
      "c      0.023567\n",
      "vol    0.584269\n",
      "dtype: float64\n"
     ]
    }
   ],
   "source": [
    "print(\"max : \",training_df.max(axis=0))\n",
    "print(\"min : \",training_df.min(axis=0))\n",
    "print(\"avg : \",training_df.mean(axis=0))\n",
    "\n"
   ]
  },
  {
   "cell_type": "code",
   "execution_count": 40,
   "metadata": {},
   "outputs": [
    {
     "data": {
      "text/plain": [
       "(10000, 6)"
      ]
     },
     "execution_count": 40,
     "metadata": {},
     "output_type": "execute_result"
    }
   ],
   "source": [
    "X = training_df.to_numpy()\n",
    "X.shape"
   ]
  },
  {
   "cell_type": "code",
   "execution_count": 41,
   "metadata": {},
   "outputs": [],
   "source": [
    "env = StockEnv()\n",
    "env.set_env_data(X)"
   ]
  },
  {
   "cell_type": "code",
   "execution_count": 42,
   "metadata": {},
   "outputs": [],
   "source": [
    "training_tool = PolicyTrain(policy,env,epsilon=0.5,gamma=0.95)"
   ]
  },
  {
   "cell_type": "code",
   "execution_count": 43,
   "metadata": {},
   "outputs": [],
   "source": [
    "training_tool.episode_train(batch_size=100)\n",
    "policy.training_log.append(data_path)"
   ]
  },
  {
   "cell_type": "code",
   "execution_count": 44,
   "metadata": {},
   "outputs": [
    {
     "name": "stdout",
     "output_type": "stream",
     "text": [
      "[[-5.27828753e-06 -2.92972789e-06 -2.83964932e-06]]\n"
     ]
    },
    {
     "data": {
      "text/plain": [
       "2"
      ]
     },
     "execution_count": 44,
     "metadata": {},
     "output_type": "execute_result"
    }
   ],
   "source": [
    "prediction = policy.predict(np.append(X[9999,:] , 1))\n",
    "print(prediction)\n",
    "np.argmax(prediction[0])"
   ]
  },
  {
   "cell_type": "code",
   "execution_count": 45,
   "metadata": {},
   "outputs": [],
   "source": [
    "file = open(policy_path,'wb')\n",
    "pickle.dump(policy,file)\n",
    "file.close()"
   ]
  }
 ],
 "metadata": {
  "kernelspec": {
   "display_name": "venv",
   "language": "python",
   "name": "python3"
  },
  "language_info": {
   "codemirror_mode": {
    "name": "ipython",
    "version": 3
   },
   "file_extension": ".py",
   "mimetype": "text/x-python",
   "name": "python",
   "nbconvert_exporter": "python",
   "pygments_lexer": "ipython3",
   "version": "3.12.8"
  }
 },
 "nbformat": 4,
 "nbformat_minor": 2
}
